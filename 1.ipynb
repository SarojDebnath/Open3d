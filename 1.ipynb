{
 "cells": [
  {
   "cell_type": "code",
   "execution_count": 1,
   "id": "e2454686-e337-49c4-ae65-f7cbeab7a9e6",
   "metadata": {},
   "outputs": [
    {
     "name": "stdout",
     "output_type": "stream",
     "text": [
      "PointCloud with 234901 points.\n"
     ]
    }
   ],
   "source": [
    "import open3d as o3d\n",
    "pcd=o3d.io.read_point_cloud('1.pcd')\n",
    "print(pcd)"
   ]
  },
  {
   "cell_type": "code",
   "execution_count": 4,
   "id": "2c76d964-cc9c-4c7c-a1b5-2489546e43d4",
   "metadata": {},
   "outputs": [],
   "source": [
    "#help(o3d)\n",
    "#help(o3d.geometry.PointCloud)\n",
    "#help(o3d.io.read_point_cloud)"
   ]
  },
  {
   "cell_type": "markdown",
   "id": "f67ffbd3-9c5c-4cde-b76a-541ec9a85f0f",
   "metadata": {},
   "source": [
    "VisualiZE"
   ]
  },
  {
   "cell_type": "code",
   "execution_count": 8,
   "id": "bd2f1bcb-a897-4be0-b257-b1c5b999944a",
   "metadata": {},
   "outputs": [
    {
     "name": "stdout",
     "output_type": "stream",
     "text": [
      "PointCloud with 234901 points.\n"
     ]
    }
   ],
   "source": [
    "import numpy as np\n",
    "import open3d as o3d\n",
    "pcd=o3d.io.read_point_cloud('1.pcd')\n",
    "print(pcd)\n",
    "#print(np.asarray(pcd.points))\n",
    "o3d.visualization.draw_geometries([pcd])"
   ]
  },
  {
   "cell_type": "code",
   "execution_count": 12,
   "id": "d8f3d1c0-8388-4d08-897b-aeb944e930f4",
   "metadata": {},
   "outputs": [
    {
     "name": "stdout",
     "output_type": "stream",
     "text": [
      "Downsample the point cloud with a voxel of 0.05\n"
     ]
    }
   ],
   "source": [
    "print(\"Downsample the point cloud with a voxel of 0.05\")\n",
    "downpcd = pcd.voxel_down_sample(voxel_size=0.05)\n",
    "o3d.visualization.draw_geometries([downpcd])"
   ]
  },
  {
   "cell_type": "code",
   "execution_count": 13,
   "id": "62935119-8deb-4ff4-a653-3f72087c3ae3",
   "metadata": {},
   "outputs": [
    {
     "name": "stdout",
     "output_type": "stream",
     "text": [
      "Recompute the normal of the downsampled point cloud\n"
     ]
    }
   ],
   "source": [
    "print(\"Recompute the normal of the downsampled point cloud\")\n",
    "downpcd.estimate_normals(search_param=o3d.geometry.KDTreeSearchParamHybrid(radius=0.1, max_nn=30))\n",
    "o3d.visualization.draw_geometries([downpcd])"
   ]
  },
  {
   "cell_type": "code",
   "execution_count": null,
   "id": "db0daeb9-606a-42ef-9e78-1224b216b0a2",
   "metadata": {},
   "outputs": [],
   "source": [
    "print(\"Load a polygon volume and use it to crop the original point cloud\")\n",
    "vol = o3d.visualization.read_selection_polygon_volume(\"../../TestData/Crop/cropped.json\")\n",
    "chair = vol.crop_point_cloud(pcd)\n",
    "o3d.visualization.draw_geometries([chair])\n",
    "print(\"\")"
   ]
  },
  {
   "cell_type": "code",
   "execution_count": null,
   "id": "593dde3d-8388-42fc-a278-ed44d655426e",
   "metadata": {},
   "outputs": [],
   "source": [
    "print(\"Paint chair\")\n",
    "chair.paint_uniform_color([1, 0.706, 0])\n",
    "o3d.visualization.draw_geometries([chair])\n",
    "print(\"\")"
   ]
  },
  {
   "cell_type": "code",
   "execution_count": null,
   "id": "ca2bddeb-ccd5-477c-8209-c150825d1455",
   "metadata": {},
   "outputs": [],
   "source": []
  }
 ],
 "metadata": {
  "kernelspec": {
   "display_name": "Python 3 (ipykernel)",
   "language": "python",
   "name": "python3"
  },
  "language_info": {
   "codemirror_mode": {
    "name": "ipython",
    "version": 3
   },
   "file_extension": ".py",
   "mimetype": "text/x-python",
   "name": "python",
   "nbconvert_exporter": "python",
   "pygments_lexer": "ipython3",
   "version": "3.9.13"
  }
 },
 "nbformat": 4,
 "nbformat_minor": 5
}
